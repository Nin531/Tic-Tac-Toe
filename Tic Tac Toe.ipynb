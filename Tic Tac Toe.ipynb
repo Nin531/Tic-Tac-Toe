{
 "cells": [
  {
   "cell_type": "code",
   "execution_count": null,
   "id": "83e11cda",
   "metadata": {},
   "outputs": [],
   "source": [
    "import random\n",
    "\n",
    "board = ['-', '-', '-',\n",
    "        '-', '-', '-',\n",
    "        '-', '-', '-']\n",
    "\n",
    "currentPlayer = 'X'\n",
    "winner = None\n",
    "gameRunning = True"
   ]
  },
  {
   "cell_type": "code",
   "execution_count": null,
   "id": "3c1ee0de",
   "metadata": {},
   "outputs": [],
   "source": [
    "#game board\n",
    "def printBoard(board):\n",
    "    print(board[0] + ' | ' + board[1] + ' | ' + board[2])\n",
    "    print('_________')\n",
    "    print(board[3] + ' | ' + board[4] + ' | ' + board[5])\n",
    "    print('_________')\n",
    "    print(board[6] + ' | ' + board[7] + ' | ' + board[8])\n",
    "printBoard(board)\n"
   ]
  },
  {
   "cell_type": "code",
   "execution_count": null,
   "id": "320aaebb",
   "metadata": {},
   "outputs": [],
   "source": [
    "#player input\n",
    "def playerInput(board):\n",
    "    inp = int(input('Enter a number 1-9: '))\n",
    "    if 1 <= inp <= 9 and board[inp-1]==\"-\":\n",
    "        board[inp-1] = currentPlayer\n",
    "    else:\n",
    "        print(\"Postion already occupied!\")\n",
    "    "
   ]
  },
  {
   "cell_type": "code",
   "execution_count": null,
   "id": "0f2dda61",
   "metadata": {},
   "outputs": [],
   "source": [
    "#check for win or tie\n",
    "def checkHorizontal(board):\n",
    "    global winner\n",
    "    if board[0] == board[1] == board[2] and board[2] != \"-\":\n",
    "        winner = board[2]\n",
    "        return True\n",
    "    elif board[3] == board[4] == board[5] and board[6] != \"-\":\n",
    "        winner = board[6]\n",
    "        return True\n",
    "    elif board[6] == board[7] == board[8] and board[8] != \"-\":\n",
    "        winner = board[8]\n",
    "        return True\n",
    "        \n",
    "def checkRow(board):\n",
    "    global winner\n",
    "    if board[0] == board[3] == board[6] and board[6] != '-':\n",
    "        winner = board[6]\n",
    "        return True\n",
    "    elif board[1] == board[4] == board[7] and board[7] != \"-\":\n",
    "        winner = board[7]\n",
    "        return True\n",
    "    elif board[2] == board[5] == board[8] and board[8] != \"-\":\n",
    "        winner = board[8]\n",
    "        return True\n",
    "    \n",
    "def checkDiag(board):\n",
    "    global winner\n",
    "    if board[0] == board[4] == board[8] and board[8] != '-':\n",
    "        winner = board[8]\n",
    "        return True\n",
    "    elif board[2] == board[4] == board[6] and board[6] != \"-\":\n",
    "        winner = board[6]\n",
    "        return True\n",
    "    \n",
    "def checkTie(board):\n",
    "    if '-' not in board:\n",
    "        printBoard(board)\n",
    "        print('It is a tie!')\n",
    "        gameRunning = False\n",
    "        \n",
    "def checkWin():\n",
    "    if checkDiag(board) or checkHorizontal(board) or checkRow(board):\n",
    "        print(f\"The winner is {winner}\")\n",
    "        \n",
    "def switchPlayer():\n",
    "    global currentPlayer\n",
    "    if currentPlayer == 'X':\n",
    "        currentPlayer = 'O'\n",
    "    else:\n",
    "        cureentPlayer = 'X'\n",
    "    \n",
    "        \n",
    "        "
   ]
  },
  {
   "cell_type": "code",
   "execution_count": null,
   "id": "a11c9a25",
   "metadata": {},
   "outputs": [],
   "source": [
    "#computer\n",
    "def computer(board):\n",
    "    while currentPlayer == 'O':\n",
    "        position = random.randint(0, 8)\n",
    "        if board[position] == '-':\n",
    "            board[position] = 'O'\n",
    "            switchPlayer()\n"
   ]
  },
  {
   "cell_type": "code",
   "execution_count": null,
   "id": "791b0dfa",
   "metadata": {},
   "outputs": [],
   "source": [
    "#check for win or tie again\n",
    "\n",
    "while gameRunning:\n",
    "    printBoard(board)\n",
    "    playerInput(board)\n",
    "    checkWin()\n",
    "    checkTie(board)\n",
    "    switchPlayer()\n",
    "    computer(board)\n",
    "    checkWin\n",
    "    checkTie(board)"
   ]
  },
  {
   "cell_type": "code",
   "execution_count": null,
   "id": "2f381f12",
   "metadata": {},
   "outputs": [],
   "source": []
  }
 ],
 "metadata": {
  "kernelspec": {
   "display_name": "Python 3 (ipykernel)",
   "language": "python",
   "name": "python3"
  },
  "language_info": {
   "codemirror_mode": {
    "name": "ipython",
    "version": 3
   },
   "file_extension": ".py",
   "mimetype": "text/x-python",
   "name": "python",
   "nbconvert_exporter": "python",
   "pygments_lexer": "ipython3",
   "version": "3.9.12"
  }
 },
 "nbformat": 4,
 "nbformat_minor": 5
}
